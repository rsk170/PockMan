{
 "cells": [
  {
   "cell_type": "markdown",
   "id": "1bd60aa5-90d9-472f-9970-9d04a2ec13c6",
   "metadata": {},
   "source": [
    "# Example 1: Simple Pocket Detection on Lysozyme (1LYZ)"
   ]
  },
  {
   "cell_type": "markdown",
   "id": "365c5c9f-6348-4745-af0b-2e570ad5e18a",
   "metadata": {},
   "source": [
    "### In this example, we run PockMan with default settings on the small and well-studied protein Lysozyme (`1LYZ`) to detect ligand-binding pockets.\n",
    "\n",
    "This notebook covers:\n",
    "- Downloading a PDB structure\n",
    "- Running PockMan\n",
    "- Viewing detected residues\n",
    "- Saving the pocket structure for visualization"
   ]
  },
  {
   "cell_type": "markdown",
   "id": "b0284ce1-68f0-41e3-a78d-6b3740c874e3",
   "metadata": {},
   "source": [
    "### Import Modules"
   ]
  },
  {
   "cell_type": "code",
   "execution_count": null,
   "id": "192fc509-523f-4cd0-bac7-a24006326780",
   "metadata": {},
   "outputs": [],
   "source": [
    "from pock_man import run_pockman\n",
    "from pdb_handler import fetch_pdb"
   ]
  },
  {
   "cell_type": "markdown",
   "id": "667b1cae-df78-4b23-84fd-567cb1d98418",
   "metadata": {},
   "source": [
    "### Fetch PDB File"
   ]
  },
  {
   "cell_type": "code",
   "execution_count": null,
   "id": "ac7b10fd-48c3-477d-8d60-75a3bf5d9a21",
   "metadata": {},
   "outputs": [],
   "source": [
    "pdb_id = \"1LYZ\"\n",
    "fetch_pdb(pdb_id)"
   ]
  },
  {
   "cell_type": "markdown",
   "id": "14c51a7a-facb-467b-9a8e-e802b2880a9f",
   "metadata": {},
   "source": [
    "### Run PockMan with Default Settings"
   ]
  },
  {
   "cell_type": "code",
   "execution_count": null,
   "id": "2d9f708f-e307-44e0-9bf3-e8d5e63211a7",
   "metadata": {},
   "outputs": [],
   "source": [
    "run_pockman(pdb_path=f\"{pdb_id}.pdb\", \n",
    "            resolution=1.0,              # default grid size\n",
    "            use_diagonal=False,         # default setting\n",
    "            output_prefix=f\"{pdb_id}_pockets\")"
   ]
  },
  {
   "cell_type": "markdown",
   "id": "4b3205d3-233d-435d-890f-73154a14513b",
   "metadata": {},
   "source": [
    "### View Detected Residues"
   ]
  },
  {
   "cell_type": "code",
   "execution_count": null,
   "id": "10415fff-1d94-4279-b378-1a3ec8953d8e",
   "metadata": {},
   "outputs": [],
   "source": [
    "# Output file from PockMan\n",
    "with open(f\"{pdb_id}_pockets_residues.txt\") as f:\n",
    "    contents = f.read()\n",
    "    print(contents)"
   ]
  },
  {
   "cell_type": "markdown",
   "id": "84ecbdbf-8e1e-432a-a758-63404ab011be",
   "metadata": {},
   "source": [
    "### Save/Export Pocket for Visualization"
   ]
  },
  {
   "cell_type": "code",
   "execution_count": null,
   "id": "6544d91e-c4a5-40c2-aea0-cce51e322d2b",
   "metadata": {},
   "outputs": [],
   "source": [
    "# The file {pdb_id}_pockets.pdb is generated and can be opened in PyMOL or Chimera\n",
    "print(f\"PDB file saved as {pdb_id}_pockets.pdb\")"
   ]
  },
  {
   "cell_type": "markdown",
   "id": "d1bb8628-4699-4429-8e5f-6d54e0f0d392",
   "metadata": {},
   "source": [
    "# Visualize Pocket Voxels in 3D"
   ]
  },
  {
   "cell_type": "code",
   "execution_count": 1,
   "id": "99b2d199-286d-4d91-b410-94b67ca2acfb",
   "metadata": {},
   "outputs": [
    {
     "name": "stdout",
     "output_type": "stream",
     "text": [
      "The history saving thread hit an unexpected error (OperationalError('attempt to write a readonly database')).History will not be written to the database.\n"
     ]
    },
    {
     "ename": "NameError",
     "evalue": "name 'pdb_id' is not defined",
     "output_type": "error",
     "traceback": [
      "\u001b[31m---------------------------------------------------------------------------\u001b[39m",
      "\u001b[31mNameError\u001b[39m                                 Traceback (most recent call last)",
      "\u001b[36mCell\u001b[39m\u001b[36m \u001b[39m\u001b[32mIn[1]\u001b[39m\u001b[32m, line 5\u001b[39m\n\u001b[32m      2\u001b[39m \u001b[38;5;28;01mfrom\u001b[39;00m\u001b[38;5;250m \u001b[39m\u001b[34;01mmpl_toolkits\u001b[39;00m\u001b[34;01m.\u001b[39;00m\u001b[34;01mmplot3d\u001b[39;00m\u001b[38;5;250m \u001b[39m\u001b[38;5;28;01mimport\u001b[39;00m Axes3D\n\u001b[32m      4\u001b[39m \u001b[38;5;66;03m# Load pocket voxel coordinates from the file\u001b[39;00m\n\u001b[32m----> \u001b[39m\u001b[32m5\u001b[39m coords_file = \u001b[33mf\u001b[39m\u001b[33m\"\u001b[39m\u001b[38;5;132;01m{\u001b[39;00m\u001b[43mpdb_id\u001b[49m\u001b[38;5;132;01m}\u001b[39;00m\u001b[33m_pockets_coords.txt\u001b[39m\u001b[33m\"\u001b[39m\n\u001b[32m      7\u001b[39m x, y, z = [], [], []\n\u001b[32m      9\u001b[39m \u001b[38;5;28;01mwith\u001b[39;00m \u001b[38;5;28mopen\u001b[39m(coords_file) \u001b[38;5;28;01mas\u001b[39;00m f:\n",
      "\u001b[31mNameError\u001b[39m: name 'pdb_id' is not defined"
     ]
    }
   ],
   "source": [
    "import matplotlib.pyplot as plt\n",
    "from mpl_toolkits.mplot3d import Axes3D\n",
    "\n",
    "# Load pocket voxel coordinates from the file\n",
    "coords_file = f\"{pdb_id}_pockets_coords.txt\"\n",
    "\n",
    "x, y, z = [], [], []\n",
    "\n",
    "with open(coords_file) as f:\n",
    "    for line in f:\n",
    "        if line.startswith(\"#\"):  # skip header/comments\n",
    "            continue\n",
    "        parts = line.strip().split()\n",
    "        if len(parts) == 3:\n",
    "            x.append(float(parts[0]))\n",
    "            y.append(float(parts[1]))\n",
    "            z.append(float(parts[2]))\n",
    "\n",
    "# 3D scatter plot\n",
    "fig = plt.figure(figsize=(8, 6))\n",
    "ax = fig.add_subplot(111, projection='3d')\n",
    "ax.scatter(x, y, z, c='red', marker='o', s=20)\n",
    "\n",
    "ax.set_title(f\"Detected Pocket Voxels for {pdb_id}\")\n",
    "ax.set_xlabel(\"X\")\n",
    "ax.set_ylabel(\"Y\")\n",
    "ax.set_zlabel(\"Z\")\n",
    "plt.show()\n"
   ]
  },
  {
   "cell_type": "code",
   "execution_count": null,
   "id": "d03bb1e3-2927-48d7-a459-8bde1a0b2cbd",
   "metadata": {},
   "outputs": [],
   "source": []
  },
  {
   "cell_type": "code",
   "execution_count": null,
   "id": "08eba2af-d4a4-4199-8605-508f6e3f03ad",
   "metadata": {},
   "outputs": [],
   "source": []
  }
 ],
 "metadata": {
  "kernelspec": {
   "display_name": "Python 3 (ipykernel)",
   "language": "python",
   "name": "python3"
  },
  "language_info": {
   "codemirror_mode": {
    "name": "ipython",
    "version": 3
   },
   "file_extension": ".py",
   "mimetype": "text/x-python",
   "name": "python",
   "nbconvert_exporter": "python",
   "pygments_lexer": "ipython3",
   "version": "3.12.2"
  }
 },
 "nbformat": 4,
 "nbformat_minor": 5
}
